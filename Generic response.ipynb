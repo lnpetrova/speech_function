{
 "cells": [
  {
   "cell_type": "code",
   "execution_count": 115,
   "metadata": {},
   "outputs": [],
   "source": [
    "import json\n",
    "from collections import defaultdict\n",
    "import random"
   ]
  },
  {
   "cell_type": "code",
   "execution_count": 100,
   "metadata": {},
   "outputs": [],
   "source": [
    "with open('cor.json') as data:\n",
    "    file = json.load(data)"
   ]
  },
  {
   "cell_type": "code",
   "execution_count": 101,
   "metadata": {},
   "outputs": [],
   "source": [
    "import spacy\n",
    "nlp = spacy.load(\"en_core_web_sm\")"
   ]
  },
  {
   "cell_type": "code",
   "execution_count": 102,
   "metadata": {},
   "outputs": [],
   "source": [
    "import nltk \n",
    "from nltk import wordpunct_tokenize"
   ]
  },
  {
   "cell_type": "code",
   "execution_count": 103,
   "metadata": {},
   "outputs": [],
   "source": [
    "dialogues = [] \n",
    "for d in file[:2]:\n",
    "    samples = defaultdict(dict)\n",
    "    result = d['completions'][0]['result']\n",
    "    texts_without_labels = d['data']['text']\n",
    "    for sample in result:\n",
    "        speaker = texts_without_labels[int(sample['value']['start'])]['speaker']\n",
    "        samples[sample['id']]['speaker'] = speaker\n",
    "        samples[sample['id']]['text'] = sample['value']['text']\n",
    "        samples[sample['id']]['start'] = int(sample['value']['start'])\n",
    "        if 'paragraphlabels' in sample['value']:\n",
    "            samples[sample['id']]['paragraphlabels'] = sample['value']['paragraphlabels'][0]\n",
    "        if 'choices' in sample['value']:\n",
    "            samples[sample['id']]['choices'] = sample['value']['choices'][0]\n",
    "    \n",
    "    sorted_samples = sorted([(samples[sample_id]['start'], sample_id) for sample_id in samples])\n",
    "    texts = []\n",
    "    labels = []\n",
    "    speakers = []\n",
    "    for _, sample_id in sorted_samples:\n",
    "        if samples[sample_id]['text'] != 'PAUSE':\n",
    "            texts.append(str(samples[sample_id]['text']).replace('\\n', ''))\n",
    "            speakers.append(samples[sample_id]['speaker'])\n",
    "            paragraph_labels = samples[sample_id].get('paragraphlabels', '')\n",
    "            choices = samples[sample_id].get('choices', '')\n",
    "            labels.append(paragraph_labels + '.' + choices)\n",
    "    dialogues.append((texts, labels, speakers))"
   ]
  },
  {
   "cell_type": "code",
   "execution_count": 104,
   "metadata": {},
   "outputs": [],
   "source": [
    "train_data = dialogues[1][0]\n",
    "test_data = dialogues[0][0]\n",
    "all_data=train_data+test_data"
   ]
  },
  {
   "cell_type": "code",
   "execution_count": 105,
   "metadata": {},
   "outputs": [],
   "source": [
    "train_labels = dialogues[1][1]\n",
    "test_labels = dialogues[0][1]\n",
    "all_labels=train_labels+test_labels"
   ]
  },
  {
   "cell_type": "code",
   "execution_count": 134,
   "metadata": {},
   "outputs": [],
   "source": [
    "registers=[]\n",
    "for i in zip(all_data, all_labels):\n",
    "    if 'Register' in i[1]:\n",
    "        if len(wordpunct_tokenize(i[0]))<3:\n",
    "            if not 'Leah' in i[0]:\n",
    "                if not 'shit' in i[0]:\n",
    "                    registers.append(i[0].strip('.'))"
   ]
  },
  {
   "cell_type": "code",
   "execution_count": 138,
   "metadata": {},
   "outputs": [],
   "source": [
    "registers=list(set(registers))"
   ]
  },
  {
   "cell_type": "code",
   "execution_count": 164,
   "metadata": {},
   "outputs": [],
   "source": [
    "sustain_monitor=['You know?', 'Alright?','Yeah?','See?','Right?']"
   ]
  },
  {
   "cell_type": "code",
   "execution_count": 222,
   "metadata": {},
   "outputs": [],
   "source": [
    "def generate_response(predicted_sf, previous_phrase, enable_repeats_register=False, user_name=''):\n",
    "    if 'Register' in predicted_sf:\n",
    "        response = random.choice(registers)\n",
    "        if enable_repeats_register==True:\n",
    "            response=word_tokenize(previous_phrase)[-1].capitalize()+'.'\n",
    "    if 'Check' in predicted_sf:\n",
    "        response=random.choice(track_check)\n",
    "    if 'Confirm' in predicted_sf:\n",
    "        response=confirm_response(previous_phrase)\n",
    "    if 'Monitor' in predicted_sf:\n",
    "        response=user_name+random.choice(sustain_monitor)  #можно добавить имя пользователя\n",
    "    if 'Affirm' in predicted_sf:\n",
    "        response=random.choice(reply_affirm+\"Yeah,\"+word_tokenize(previous_phrase)[-1])\n",
    "    if 'Disawow' in predicted_sf:\n",
    "        response=random.choice(reply_disawow)\n",
    "    if 'Disagree' in predicted_sf:\n",
    "        response=random.choice(reply_disagree)\n",
    "    if 'Agree' in predicted_sf:\n",
    "        response=random.choice(reply_agree)\n",
    "    if 'Contradict' in predicted_sf:\n",
    "        response=random.choice(reply_contradict)\n",
    "    if 'Clarify' in predicted_sf:\n",
    "        response=clarify_response(previous_phrase)        \n",
    "    return response    "
   ]
  },
  {
   "cell_type": "code",
   "execution_count": 179,
   "metadata": {},
   "outputs": [],
   "source": [
    "reply_agree=[\"Oh that's right. That's right.\", \"Yep.\", \"Right.\", 'Sure', 'Indeed', 'I agree with you']"
   ]
  },
  {
   "cell_type": "code",
   "execution_count": 180,
   "metadata": {},
   "outputs": [],
   "source": [
    "reply_disagree=['No', 'Hunhunh.', \"I don't agree with you\", \"I disagree\", \"I do not think so\", \"I hardly think so\", \"I can't agree with you\"]"
   ]
  },
  {
   "cell_type": "code",
   "execution_count": 181,
   "metadata": {},
   "outputs": [],
   "source": [
    "reply_disawow=['I doubt it. I really do.', \"I don't know.\", \"I'm not sure\", 'Probably.', \"I don't know if it's true\"]"
   ]
  },
  {
   "cell_type": "code",
   "execution_count": 182,
   "metadata": {},
   "outputs": [],
   "source": [
    "reply_acknowledge=['I knew that.','I know.', 'No doubts', 'I know what you meant.', 'Oh yeah.','I see']"
   ]
  },
  {
   "cell_type": "code",
   "execution_count": 183,
   "metadata": {},
   "outputs": [],
   "source": [
    "reply_affirm=['Oh definitely.', 'Yeah.', 'Kind of.', 'Unhunh', 'Yeah I think so', 'Really.','Right.', \"That's what it was.\"]"
   ]
  },
  {
   "cell_type": "code",
   "execution_count": 185,
   "metadata": {},
   "outputs": [],
   "source": [
    "reply_contradict=['Oh definitely no', 'No', 'No way', 'Absolutely not', 'Not at all', 'Nope', 'Not really', 'Hardly']"
   ]
  },
  {
   "cell_type": "code",
   "execution_count": 220,
   "metadata": {},
   "outputs": [],
   "source": [
    "def clarify_response(previous_phrase):\n",
    "    doc=nlp(previous_phrase)\n",
    "    poses=[]\n",
    "    deps=[]\n",
    "    for token in doc:\n",
    "        poses.append(token.pos_)\n",
    "        deps.append(token.dep_)\n",
    "        if token.pos_=='NOUN' or token.pos_=='PROPN':\n",
    "            clarify_noun=token.text\n",
    "            next_sent='What '+clarify_noun+'?'\n",
    "        elif token.dep_=='prep':\n",
    "            prep=token.text\n",
    "            next_sent=str(prep).capitalize() + ' what?' \n",
    "        elif poses[0]=='PROPN' or poses[0]=='PRON':\n",
    "            if word_tokenize(previous_phrase)[0]=='I' or word_tokenize(previous_phrase)[0]=='We':\n",
    "                first_pron='You'\n",
    "                next_sent=first_pron + ' what?'\n",
    "            else:\n",
    "                next_sent=word_tokenize(previous_phrase)[0] + ' what?'\n",
    "        else:\n",
    "            next_sent='What?'\n",
    "    return next_sent"
   ]
  },
  {
   "cell_type": "code",
   "execution_count": 186,
   "metadata": {},
   "outputs": [],
   "source": [
    "def confirm_response(previous_phrase):\n",
    "    track_confirm = ['Oh really?', ' Oh yeah?', 'Sure?', 'Are you sure?', 'Are you serious?','Yeah']\n",
    "    if len(word_tokenize(previous_phrase))>5:\n",
    "        next_sent=(word_tokenize(previous_phrase))[-1].capitalize()+'?'\n",
    "    elif len(word_tokenize(previous_phrase))<4:\n",
    "        if 'I' in previous_phrase:\n",
    "            previous_phrase =re.sub('I','you', previous_phrase)\n",
    "        next_sent=previous_phrase+'?'\n",
    "    else:\n",
    "        next_sent=random.choice(track_confirm)\n",
    "    return next_sent"
   ]
  },
  {
   "cell_type": "code",
   "execution_count": 42,
   "metadata": {},
   "outputs": [],
   "source": [
    "track_confirm=[' Oh really ?','Right ?', ' Okay ?']"
   ]
  },
  {
   "cell_type": "code",
   "execution_count": 141,
   "metadata": {},
   "outputs": [],
   "source": [
    "track_check=['Pardon?', 'I beg your pardon ?', 'Mhm ?','Hm?','What do you mean?']"
   ]
  }
 ],
 "metadata": {
  "kernelspec": {
   "display_name": "Python 3",
   "language": "python",
   "name": "python3"
  },
  "language_info": {
   "codemirror_mode": {
    "name": "ipython",
    "version": 3
   },
   "file_extension": ".py",
   "mimetype": "text/x-python",
   "name": "python",
   "nbconvert_exporter": "python",
   "pygments_lexer": "ipython3",
   "version": "3.6.9"
  }
 },
 "nbformat": 4,
 "nbformat_minor": 2
}
