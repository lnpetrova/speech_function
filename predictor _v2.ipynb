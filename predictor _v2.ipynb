{
 "cells": [
  {
   "cell_type": "code",
   "execution_count": 2,
   "metadata": {},
   "outputs": [],
   "source": [
    "from collections import defaultdict\n",
    "import json"
   ]
  },
  {
   "cell_type": "code",
   "execution_count": 3,
   "metadata": {},
   "outputs": [],
   "source": [
    "import re"
   ]
  },
  {
   "cell_type": "code",
   "execution_count": 4,
   "metadata": {},
   "outputs": [],
   "source": [
    "with open('cor.json') as data:\n",
    "    file = json.load(data)"
   ]
  },
  {
   "cell_type": "code",
   "execution_count": 5,
   "metadata": {},
   "outputs": [],
   "source": [
    "dialogues = [] \n",
    "for d in file[:2]:\n",
    "    samples = defaultdict(dict)\n",
    "    result = d['completions'][0]['result']\n",
    "    texts_without_labels = d['data']['text']\n",
    "    for sample in result:\n",
    "        speaker = texts_without_labels[int(sample['value']['start'])]['speaker']\n",
    "        samples[sample['id']]['speaker'] = speaker\n",
    "        samples[sample['id']]['text'] = sample['value']['text']\n",
    "        samples[sample['id']]['start'] = int(sample['value']['start'])\n",
    "        if 'paragraphlabels' in sample['value']:\n",
    "            samples[sample['id']]['paragraphlabels'] = sample['value']['paragraphlabels'][0]\n",
    "        if 'choices' in sample['value']:\n",
    "            samples[sample['id']]['choices'] = sample['value']['choices'][0]\n",
    "    \n",
    "    sorted_samples = sorted([(samples[sample_id]['start'], sample_id) for sample_id in samples])\n",
    "    texts = []\n",
    "    labels = []\n",
    "    speakers = []\n",
    "    for _, sample_id in sorted_samples:\n",
    "        if samples[sample_id]['text'] != 'PAUSE':\n",
    "            texts.append(str(samples[sample_id]['text']).replace('\\n', ''))\n",
    "            speakers.append(samples[sample_id]['speaker'])\n",
    "            paragraph_labels = samples[sample_id].get('paragraphlabels', '')\n",
    "            choices = samples[sample_id].get('choices', '')\n",
    "            labels.append(paragraph_labels + '.' + choices)\n",
    "    dialogues.append((texts, labels, speakers))"
   ]
  },
  {
   "cell_type": "code",
   "execution_count": 6,
   "metadata": {},
   "outputs": [],
   "source": [
    "train_labels = dialogues[1][1]\n",
    "test_labels = dialogues[0][1]"
   ]
  },
  {
   "cell_type": "code",
   "execution_count": 7,
   "metadata": {},
   "outputs": [],
   "source": [
    "def cut_labels(list_of_labels):\n",
    "    for i in range(len(list_of_labels)):\n",
    "        if 'Support.' in list_of_labels[i]:\n",
    "            if 'Register' not in list_of_labels[i] and 'Engage' not in list_of_labels[i]:\n",
    "                list_of_labels[i]=re.sub('Support.','',list_of_labels[i])\n",
    "        if 'Confront.' in list_of_labels[i]:\n",
    "            list_of_labels[i]=re.sub('Confront.','',list_of_labels[i])\n",
    "        if 'Append' in list_of_labels[i]:\n",
    "            list_of_labels[i]=re.sub('Append','Prolong',list_of_labels[i])\n",
    "        if 'Initiate.' in list_of_labels[i]:\n",
    "            list_of_labels[i]=re.sub('Initiate.','',list_of_labels[i])\n",
    "        if 'Challenge.' in list_of_labels[i]:\n",
    "            list_of_labels[i]=re.sub('Challenge.','',list_of_labels[i])\n",
    "        if 'Answer' in list_of_labels[i]:\n",
    "            list_of_labels[i]='React.Rejoinder.Response.Resolve'\n",
    "        if 'Open.Opinion' in list_of_labels[i]:\n",
    "            list_of_labels[i]=re.sub('Open.Opinion','Opinion',list_of_labels[i])\n",
    "        if 'Open.Fact' in list_of_labels[i]:\n",
    "            list_of_labels[i]=re.sub('Open.Fact','Fact',list_of_labels[i])\n",
    "        if 'Open.Fact' in list_of_labels[i]:\n",
    "            list_of_labels[i]=re.sub('Open.Fact','Fact',list_of_labels[i])\n",
    "        if 'Decline' in list_of_labels[i]:\n",
    "            list_of_labels[i]=re.sub('Decline','Contradict',list_of_labels[i])\n",
    "        if 'Accept' in list_of_labels[i]:\n",
    "            list_of_labels[i]=re.sub('Accept','Affirm',list_of_labels[i])\n",
    "        if 'Response.Re-challenge' in list_of_labels[i]:\n",
    "            list_of_labels[i]=re.sub('Response.Re-challenge','Re-challenge',list_of_labels[i])\n",
    "        if 'Response.Refute' in list_of_labels[i]:\n",
    "            list_of_labels[i]=re.sub('Response.Refute','Counter',list_of_labels[i])\n",
    "        if 'Response.Acquiesce' in list_of_labels[i]:\n",
    "            list_of_labels[i]=re.sub('Response.Acquiesce','Response.Resolve',list_of_labels[i])\n",
    "        if 'Detach' in list_of_labels[i]:\n",
    "            list_of_labels[i]='React.Rejoinder.Rebound'\n",
    "        if 'Rejoinder.Develop.Elaborate' in list_of_labels[i]:\n",
    "            list_of_labels[i]=re.sub('Rejoinder','Respond',list_of_labels[i])\n",
    "        if 'React.Respond.Disengage' in list_of_labels[i]:\n",
    "            list_of_labels[i]='React.Respond.Support.Register'\n",
    "        if 'Response.Repair' in list_of_labels[i]:\n",
    "            list_of_labels[i]='React.Respond.Develop.Extend'\n",
    "        if 'React.Rejoinder.Counter' in list_of_labels[i]:\n",
    "            list_of_labels[i]='Rejoinder.Counter'\n",
    "        if 'Closed.Fact' in list_of_labels[i]:\n",
    "            list_of_labels[i]=re.sub('Closed.Fact','Fact',list_of_labels[i])\n",
    "        if 'Closed.Opinion' in list_of_labels[i]:\n",
    "            list_of_labels[i]=re.sub('Closed.Opinion','Opinion',list_of_labels[i])\n",
    "        if 'React.Rejoinder.Response.Resolve' in list_of_labels[i]:\n",
    "            list_of_labels[i]=re.sub('Closed.Opinion','Opinion',list_of_labels[i])\n",
    "    return list_of_labels     \n",
    "            "
   ]
  },
  {
   "cell_type": "code",
   "execution_count": 19,
   "metadata": {},
   "outputs": [
    {
     "data": {
      "text/plain": [
       "{'Open.Attend.',\n",
       " 'Open.Demand.Fact',\n",
       " 'Open.Demand.Opinion',\n",
       " 'Open.Give.Fact',\n",
       " 'Open.Give.Opinion',\n",
       " 'React.Rejoinder.Re-challenge',\n",
       " 'React.Rejoinder.Rebound',\n",
       " 'React.Rejoinder.Response.Resolve',\n",
       " 'React.Rejoinder.Track.Check',\n",
       " 'React.Rejoinder.Track.Clarify',\n",
       " 'React.Rejoinder.Track.Confirm',\n",
       " 'React.Rejoinder.Track.Probe',\n",
       " 'React.Respond.Develop.Elaborate',\n",
       " 'React.Respond.Develop.Enhance',\n",
       " 'React.Respond.Develop.Extend',\n",
       " 'React.Respond.Reply.Acknowledge',\n",
       " 'React.Respond.Reply.Affirm',\n",
       " 'React.Respond.Reply.Agree',\n",
       " 'React.Respond.Reply.Contradict',\n",
       " 'React.Respond.Reply.Disagree',\n",
       " 'React.Respond.Reply.Disawow',\n",
       " 'React.Respond.Support.Engage',\n",
       " 'React.Respond.Support.Register',\n",
       " 'Rejoinder.Counter',\n",
       " 'Sustain.Continue.Monitor',\n",
       " 'Sustain.Continue.Prolong.Elaborate',\n",
       " 'Sustain.Continue.Prolong.Enhance',\n",
       " 'Sustain.Continue.Prolong.Extend'}"
      ]
     },
     "execution_count": 19,
     "metadata": {},
     "output_type": "execute_result"
    }
   ],
   "source": [
    "set(cut_labels(train_labels)+cut_labels(test_labels))"
   ]
  },
  {
   "cell_type": "code",
   "execution_count": 8,
   "metadata": {},
   "outputs": [],
   "source": [
    "class_dict = {}\n",
    "label_to_name = []\n",
    "i=0\n",
    "for el in set(cut_labels(train_labels)+cut_labels(test_labels)):\n",
    "    class_dict[el] = i\n",
    "    i = i+1\n",
    "    label_to_name.append(el)"
   ]
  },
  {
   "cell_type": "code",
   "execution_count": 9,
   "metadata": {},
   "outputs": [],
   "source": [
    "A = [[0]*len(class_dict) for _ in range(len(class_dict))]"
   ]
  },
  {
   "cell_type": "code",
   "execution_count": 10,
   "metadata": {},
   "outputs": [],
   "source": [
    "for label_sequence in (train_labels,test_labels):\n",
    "    for i,lbl in enumerate(label_sequence):\n",
    "        if i+1 < len(label_sequence):\n",
    "            num_class = class_dict[label_sequence[i]]\n",
    "            num_class2 = class_dict[label_sequence[i+1]]\n",
    "            A[num_class][num_class2] +=1"
   ]
  },
  {
   "cell_type": "code",
   "execution_count": 11,
   "metadata": {},
   "outputs": [],
   "source": [
    "for i in range(len(A)):\n",
    "    total_count=sum(A[i])\n",
    "    for j in range(len(A[i])):\n",
    "        A[i][j]/=max(total_count,1)"
   ]
  },
  {
   "cell_type": "code",
   "execution_count": 30,
   "metadata": {},
   "outputs": [],
   "source": [
    "def print_most_probable_labels(label_name):\n",
    "    most_prob_lbls=[]\n",
    "    kd=[]\n",
    "    if label_name=='React.Respond.Response.Resolve.':\n",
    "        label_name='React.Rejoinder.Response.Resolve'\n",
    "    class_id = class_dict[label_name]\n",
    "    sorted_lbls = sorted(enumerate(A[class_id]),reverse=True,key=lambda x: x[1])\n",
    "    for label, probability in sorted_lbls:\n",
    "        if probability!=0.0:\n",
    "            most_prob_lbls.append(label_to_name[label])\n",
    "    return most_prob_lbls"
   ]
  },
  {
   "cell_type": "code",
   "execution_count": 31,
   "metadata": {},
   "outputs": [
    {
     "data": {
      "text/plain": [
       "['Sustain.Continue.Prolong.Elaborate',\n",
       " 'React.Rejoinder.Track.Clarify',\n",
       " 'React.Respond.Support.Register',\n",
       " 'Sustain.Continue.Monitor',\n",
       " 'React.Respond.Reply.Acknowledge',\n",
       " 'Open.Give.Fact',\n",
       " 'React.Respond.Reply.Agree',\n",
       " 'Open.Attend.',\n",
       " 'Open.Demand.Opinion',\n",
       " 'React.Respond.Support.Engage']"
      ]
     },
     "execution_count": 31,
     "metadata": {},
     "output_type": "execute_result"
    }
   ],
   "source": [
    "print_most_probable_labels('Open.Give.Fact')"
   ]
  },
  {
   "cell_type": "code",
   "execution_count": null,
   "metadata": {},
   "outputs": [],
   "source": []
  }
 ],
 "metadata": {
  "kernelspec": {
   "display_name": "Python 3",
   "language": "python",
   "name": "python3"
  },
  "language_info": {
   "codemirror_mode": {
    "name": "ipython",
    "version": 3
   },
   "file_extension": ".py",
   "mimetype": "text/x-python",
   "name": "python",
   "nbconvert_exporter": "python",
   "pygments_lexer": "ipython3",
   "version": "3.6.9"
  }
 },
 "nbformat": 4,
 "nbformat_minor": 2
}
